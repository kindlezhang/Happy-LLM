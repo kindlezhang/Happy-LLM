{
 "cells": [
  {
   "cell_type": "markdown",
   "id": "4dfacb2e",
   "metadata": {},
   "source": [
    "# transformer\n",
    "\n",
    "## Attention\n",
    "\n",
    "FNN\n",
    "CNN\n",
    "RNN\n",
    "\n",
    "RNN and its derivative's disadvantage:\n",
    "- 1.\n",
    "- 2.\n",
    "\n",
    "query, key and value"
   ]
  },
  {
   "cell_type": "code",
   "execution_count": 1,
   "id": "6f97c6bc",
   "metadata": {},
   "outputs": [],
   "source": [
    "## 注意力计算函数 \n"
   ]
  }
 ],
 "metadata": {
  "kernelspec": {
   "display_name": "pytorch",
   "language": "python",
   "name": "python3"
  },
  "language_info": {
   "codemirror_mode": {
    "name": "ipython",
    "version": 3
   },
   "file_extension": ".py",
   "mimetype": "text/x-python",
   "name": "python",
   "nbconvert_exporter": "python",
   "pygments_lexer": "ipython3",
   "version": "3.12.9"
  }
 },
 "nbformat": 4,
 "nbformat_minor": 5
}
