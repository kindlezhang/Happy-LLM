{
 "cells": [
  {
   "cell_type": "markdown",
   "id": "4dfacb2e",
   "metadata": {},
   "source": [
    "# transformer\n",
    "\n",
    "## Attention\n",
    "\n",
    "FNN\n",
    "CNN\n",
    "RNN\n",
    "\n",
    "RNN and its derivative's disadvantage:\n",
    "- 1.\n",
    "- 2.\n",
    "\n",
    "query, key and value"
   ]
  },
  {
   "cell_type": "code",
   "execution_count": 3,
   "id": "6f97c6bc",
   "metadata": {},
   "outputs": [],
   "source": [
    "import torch\n",
    "\n",
    "## 注意力计算函数 \n",
    "def attention(query, key, value, dropout = None):\n",
    "    # args:\n",
    "    # query: 查询值矩阵\n",
    "    # key: 键值矩阵\n",
    "    # value: 真值矩阵\n",
    "\n",
    "    # 获取键向量的维度，键向量的维度和值向量的维度相同\n",
    "    d_k = query.size(-1)\n",
    "    # 计算Q与K的内积并除以根号dkery.size(-1) \n",
    "    # transpose--转置\n",
    "    scores = torch.matmul(query, key.transpose(-2, -1))/math.sqrt(d_k)\n",
    "    # softmax\n",
    "    p_attn = scores.softmax(dim = -1)\n",
    "    if dropout is not None:\n",
    "        p_attn = scores.softmax(dim = -1)\n",
    "        # 采样\n",
    "    # 根据计算结果加权求和\n",
    "    return torch.matmul(p_attn, value), p_attn\n"
   ]
  },
  {
   "cell_type": "markdown",
   "id": "cba00b58",
   "metadata": {},
   "source": [
    "Q的典型维度是：(batch_size,n_queries,d_k)\n",
    "K的典型维度是：(batch_size,n_keys,d_k) \n",
    "V的典型维度是：(batch_size,n_keys,d_v)\n",
    "最后的attention就是 (batch_size,n_queries,d_v)\n",
    "\n",
    "Q*K得到一个序列对另一个序列中每个元素的相关度\n",
    "再乘V得到一个基于相关性进行注意力分配后的值序列\n",
    "\n",
    "我们假设输入的 q、k、v 是已经经过转化的词向量矩阵，也就是公式中的 Q、K、V。\n",
    "在 Encoder 中，Q、K、V 分别是输入对参数矩阵W_q, W_k和W_v做积得到，从而拟合输入语句中每一个 token 对其他所有 token 的关系。"
   ]
  },
  {
   "cell_type": "markdown",
   "id": "6c4943fc",
   "metadata": {},
   "source": [
    "## self attention\n",
    "\n",
    "使用在transformer的encoder中"
   ]
  },
  {
   "cell_type": "code",
   "execution_count": null,
   "id": "60b368eb",
   "metadata": {},
   "outputs": [],
   "source": [
    "# attention 为上文定义的注意力计算函数\n",
    "attention(x, x, x)"
   ]
  },
  {
   "cell_type": "markdown",
   "id": "b9a6f520",
   "metadata": {},
   "source": [
    "## mask self attention"
   ]
  },
  {
   "cell_type": "code",
   "execution_count": null,
   "id": "0f6b08ca",
   "metadata": {},
   "outputs": [
    {
     "ename": "NameError",
     "evalue": "name 'args' is not defined",
     "output_type": "error",
     "traceback": [
      "\u001b[31m---------------------------------------------------------------------------\u001b[39m",
      "\u001b[31mNameError\u001b[39m                                 Traceback (most recent call last)",
      "\u001b[36mCell\u001b[39m\u001b[36m \u001b[39m\u001b[32mIn[5]\u001b[39m\u001b[32m, line 1\u001b[39m\n\u001b[32m----> \u001b[39m\u001b[32m1\u001b[39m \u001b[43margs\u001b[49m.max_seq_len = \u001b[32m3\u001b[39m\n\u001b[32m      2\u001b[39m \u001b[38;5;66;03m# 创建一个上三角矩阵，用于遮蔽未来信息。\u001b[39;00m\n\u001b[32m      3\u001b[39m \u001b[38;5;66;03m# 先通过 full 函数创建一个 1 * seq_len * seq_len 的矩阵\u001b[39;00m\n\u001b[32m      4\u001b[39m mask = torch.full((\u001b[32m1\u001b[39m, args.max_seq_len, args.max_seq_len), \u001b[38;5;28mfloat\u001b[39m(\u001b[33m\"\u001b[39m\u001b[33m-inf\u001b[39m\u001b[33m\"\u001b[39m))\n",
      "\u001b[31mNameError\u001b[39m: name 'args' is not defined"
     ]
    }
   ],
   "source": [
    "# 创建一个上三角矩阵，用于遮蔽未来信息。\n",
    "# 先通过 full 函数创建一个 1 * seq_len * seq_len 的矩阵\n",
    "mask = torch.full((1, args.max_seq_len, args.max_seq_len), float(\"-inf\"))\n",
    "# triu 函数的功能是创建一个上三角矩阵\n",
    "mask = torch.triu(mask, diagonal=1)\n"
   ]
  },
  {
   "cell_type": "code",
   "execution_count": null,
   "id": "8be9b2d6",
   "metadata": {},
   "outputs": [],
   "source": [
    "# 此处的 scores 为计算得到的注意力分数，mask 为上文生成的掩码矩阵\n",
    "scores = scores + mask[:, :seqlen, :seqlen]\n",
    "scores = F.softmax(scores.float(), dim=-1).type_as(xq)"
   ]
  },
  {
   "cell_type": "markdown",
   "id": "7ce5778b",
   "metadata": {},
   "source": [
    "## multiheads attention\n",
    "\n",
    "公式："
   ]
  },
  {
   "cell_type": "code",
   "execution_count": 14,
   "id": "0a24e0db",
   "metadata": {},
   "outputs": [],
   "source": [
    "import torch.nn as nn\n",
    "import torch\n",
    "import torch.nn.functional as F  # 提供函数式 API，如 F.softmax\n",
    "import math\n",
    "\n",
    "'''多头自注意力计算模块'''\n",
    "class MultiHeadAttention(nn.Module):\n",
    "\n",
    "    def __init__ (self, args:ModelArgs, is_causal=False):\n",
    "        # 构造函数\n",
    "        # args: 配置对象\n",
    "        super().__init__()\n",
    "        # 隐藏层维度必须是头数的整数倍，因为后面我们会将输入拆成头数个矩阵\n",
    "        assert args.dim % args.n_heads == 0\n",
    "        # 每个头的维度，等于模型维度除以头的总数。\n",
    "        self.head_dim = args.dim // args.n_heads\n",
    "        self.n_heads = args.n_heads\n",
    "\n",
    "        # Wq, Wk, Wv 参数矩阵，每个参数矩阵为 n_embd x dim\n",
    "        # 这里通过三个组合矩阵来代替了n个参数矩阵的组合，其逻辑在于矩阵内积再拼接其实等同于拼接矩阵再内积，\n",
    "        self.wq = nn.Linear(args.n_embd, self.n_heads * self.head_dim, bias=False)\n",
    "        self.wk = nn.Linear(args.n_embd, self.n_heads * self.head_dim, bias=False)\n",
    "        self.wv = nn.Linear(args.n_embd, self.n_heads * self.head_dim, bias=False)\n",
    "        # 输出权重矩阵，维度为 dim x dim（head_dim = dim / n_heads）\n",
    "        self.wo = nn.Linear(self.n_heads * self.head_dim, args.dim, bias=False)\n",
    "        # 注意力的 dropout\n",
    "        self.attn_dropout = nn.Dropout(args.dropout)\n",
    "        # 残差连接的 dropout\n",
    "        self.resid_dropout = nn.Dropout(args.dropout)\n",
    "        self.is_causal = is_causal\n",
    "\n",
    "        # 创建一个上三角矩阵，用于遮蔽未来信息\n",
    "        # 注意，因为是多头注意力，Mask 矩阵比之前我们定义的多一个维度\n",
    "        if is_causal:\n",
    "            mask = torch.full((1, 1, args.max_seq_len, args.max_seq_len), float(\"-inf\"))\n",
    "            mask = torch.triu(mask, diagonal=1)\n",
    "            # 注册为模型的缓冲区\n",
    "            self.register_buffer(\"mask\", mask)\n",
    "\n",
    "    def forward(self, q: torch.Tensor, k: torch.Tensor, v: torch.Tensor):\n",
    "\n",
    "        # 获取批次大小和序列长度，[batch_size, seq_len, dim]\n",
    "        bsz, seqlen, _ = q.shape\n",
    "\n",
    "        # 计算查询（Q）、键（K）、值（V）,输入通过参数矩阵层，维度为 (B, T, n_embed) x (n_embed, dim) -> (B, T, dim)\n",
    "        xq, xk, xv = self.wq(q), self.wk(k), self.wv(v)\n",
    "\n",
    "        # 将 Q、K、V 拆分成多头，维度为 (B, T, n_head, dim // n_head)，然后交换维度，变成 (B, n_head, T, dim // n_head)\n",
    "        # 因为在注意力计算中我们是取了后两个维度参与计算\n",
    "        # 为什么要先按B*T*n_head*C//n_head展开再互换1、2维度而不是直接按注意力输入展开，是因为view的展开方式是直接把输入全部排开，\n",
    "        # 然后按要求构造，可以发现只有上述操作能够实现我们将每个头对应部分取出来的目标\n",
    "        xq = xq.view(bsz, seqlen, self.n_heads, self.head_dim)\n",
    "        xk = xk.view(bsz, seqlen, self.n_heads, self.head_dim)\n",
    "        xv = xv.view(bsz, seqlen, self.n_heads, self.head_dim)\n",
    "        xq = xq.transpose(1, 2)\n",
    "        xk = xk.transpose(1, 2)\n",
    "        xv = xv.transpose(1, 2)\n",
    "\n",
    "        # 注意力计算\n",
    "        # 计算 QK^T / sqrt(d_k)，维度为 (B, nh, T, hs) x (B, nh, hs, T) -> (B, nh, T, T)\n",
    "        scores = torch.matmul(xq, xk.transpose(2, 3)) / math.sqrt(self.head_dim)\n",
    "        # 掩码自注意力必须有注意力掩码\n",
    "        if self.is_causal:\n",
    "            assert hasattr(self, 'mask')\n",
    "            # 这里截取到序列长度，因为有些序列可能比 max_seq_len 短\n",
    "            scores = scores + self.mask[:, :, :seqlen, :seqlen]\n",
    "        # 计算 softmax，维度为 (B, nh, T, T)\n",
    "        scores = F.softmax(scores.float(), dim=-1).type_as(xq)\n",
    "        # 做 Dropout\n",
    "        scores = self.attn_dropout(scores)\n",
    "        # V * Score，维度为(B, nh, T, T) x (B, nh, T, hs) -> (B, nh, T, hs)\n",
    "        output = torch.matmul(scores, xv)\n",
    "\n",
    "        # 恢复时间维度并合并头。\n",
    "        # 将多头的结果拼接起来, 先交换维度为 (B, T, n_head, dim // n_head)，再拼接成 (B, T, n_head * dim // n_head)\n",
    "        # contiguous 函数用于重新开辟一块新内存存储，因为Pytorch设置先transpose再view会报错，\n",
    "        # 因为view直接基于底层存储得到，然而transpose并不会改变底层存储，因此需要额外存储\n",
    "        output = output.transpose(1, 2).contiguous().view(bsz, seqlen, -1)\n",
    "\n",
    "        # 最终投影回残差流。\n",
    "        output = self.wo(output)\n",
    "        output = self.resid_dropout(output)\n",
    "        return output"
   ]
  },
  {
   "cell_type": "code",
   "execution_count": null,
   "id": "756d4d06",
   "metadata": {},
   "outputs": [],
   "source": [
    "class ModelArgs:\n",
    "    dim = 512\n",
    "    n_heads = 8\n",
    "    n_embd = 512\n",
    "    max_seq_len = 16\n",
    "    dropout = 0.1\n",
    "    # 一般dim和n_embd保持一致\n",
    "\n",
    "args = ModelArgs()\n",
    "mha = MultiHeadAttention(args)\n"
   ]
  },
  {
   "cell_type": "code",
   "execution_count": 18,
   "id": "0e236cf0",
   "metadata": {},
   "outputs": [
    {
     "name": "stdout",
     "output_type": "stream",
     "text": [
      "torch.Size([2, 16, 512])\n"
     ]
    }
   ],
   "source": [
    "q = torch.randn(2, 16, 512)  # (batch_size=2, seq_len=16, embed_dim=512)\n",
    "k = torch.randn(2, 16, 512)\n",
    "v = torch.randn(2, 16, 512)\n",
    "out = mha(q, k, v)\n",
    "print(out.shape)"
   ]
  },
  {
   "cell_type": "markdown",
   "id": "4a4b9d8b",
   "metadata": {},
   "source": [
    "# Encoder and Decoder\n",
    "\n",
    "后续基于 Transformer 架构而来的预训练语言模型基本都是对 Encoder-Decoder 部分进行改进来构建新的模型架构，例如只使用 Encoder 的 BERT、只使用 Decoder 的 GPT 等。\n",
    "\n",
    "## Seq2Seq模型\n",
    "\n",
    "几乎所有的 NLP 任务都可以视为 Seq2Seq 任务\n",
    "\n",
    "## FNN 前馈神经网络\n",
    "\n",
    "每一个 Encoder Layer 都包含一个上文讲的注意力机制和一个前馈神经网络。"
   ]
  },
  {
   "cell_type": "code",
   "execution_count": null,
   "id": "493dca4f",
   "metadata": {},
   "outputs": [],
   "source": [
    "class MLP(nn.Module):\n",
    "    '''前馈神经网络'''\n",
    "    def __init__(self, dim: int, hidden_dim: int, dropout: float):\n",
    "        super().__init__()\n",
    "        # 定义第一层线性变换，从输入维度到隐藏维度\n",
    "        self.w1 = nn.Linear(dim, hidden_dim, bias=False)\n",
    "        # 定义第二层线性变换，从隐藏维度到输入维度\n",
    "        self.w2 = nn.Linear(hidden_dim, dim, bias=False)\n",
    "        # 定义dropout层，用于防止过拟合\n",
    "        self.dropout = nn.Dropout(dropout)\n",
    "\n",
    "    def forward(self, x):\n",
    "        # 前向传播函数\n",
    "        # 首先，输入x通过第一层线性变换和RELU激活函数\n",
    "        # 最后，通过第二层线性变换和dropout层\n",
    "        return self.dropout(self.w2(F.relu(self.w1(x))))"
   ]
  },
  {
   "cell_type": "markdown",
   "id": "9e403fce",
   "metadata": {},
   "source": [
    "## 层归一化 Layer Norm\n",
    "\n",
    "神经网络主流的归一化一般有两种，批归一化（Batch Norm）和层归一化（Layer Norm）\n",
    "\n",
    "批归一化：在一个 mini-batch 上进行归一化，以维度为基准进行归一化\n",
    "\n",
    "但是有弊端，所以有了Layer Norm"
   ]
  },
  {
   "cell_type": "code",
   "execution_count": null,
   "id": "b4eac637",
   "metadata": {},
   "outputs": [],
   "source": [
    "class LayerNorm(nn.Module):\n",
    "    ''' Layer Norm 层'''\n",
    "    # features 表示 输入张量最后一维的大小\n",
    "    def __init__(self, features, eps=1e-6):\n",
    "    super().__init__()\n",
    "    # 线性矩阵做映射\n",
    "    self.a_2 = nn.Parameter(torch.ones(features)) # 创建一个形状为 (512,) 的一维全 1 张量\n",
    "    self.b_2 = nn.Parameter(torch.zeros(features))\n",
    "    self.eps = eps\n",
    "    \n",
    "    def forward(self, x):\n",
    "    # 在统计每个样本所有维度的值，求均值和方差\n",
    "    mean = x.mean(-1, keepdim=True) # mean: [bsz, max_len, 1]\n",
    "    std = x.std(-1, keepdim=True) # std: [bsz, max_len, 1]\n",
    "    # 注意这里也在最后一个维度发生了广播\n",
    "    return self.a_2 * (x - mean) / (std + self.eps) + self.b_2\n",
    "    "
   ]
  },
  {
   "cell_type": "markdown",
   "id": "3688d24b",
   "metadata": {},
   "source": [
    "## 残差连接"
   ]
  },
  {
   "cell_type": "code",
   "execution_count": null,
   "id": "1c785cd0",
   "metadata": {},
   "outputs": [],
   "source": [
    "# 注意力计算\n",
    "h = x + self.attention.forward(self.attention_norm(x))\n",
    "# 经过前馈神经网络\n",
    "out = h + self.feed_forward.forward(self.fnn_norm(h))"
   ]
  },
  {
   "cell_type": "markdown",
   "id": "9a35898b",
   "metadata": {},
   "source": [
    "## Encoder"
   ]
  },
  {
   "cell_type": "code",
   "execution_count": null,
   "id": "18b14eb8",
   "metadata": {},
   "outputs": [],
   "source": [
    "class EncoderLayer(nn.Module):\n",
    "    '''Encoder层'''\n",
    "    def __init__(self, args):\n",
    "        super().__init__()\n",
    "        # 一个 Layer 中有两个 LayerNorm，分别在 Attention 之前和 MLP 之前\n",
    "        self.attention_norm = LayerNorm(args.n_embd)\n",
    "        # Encoder 不需要掩码，传入 is_causal=False\n",
    "        self.attention = MultiHeadAttention(args, is_causal=False)\n",
    "        self.fnn_norm = LayerNorm(args.n_embd)\n",
    "        self.feed_forward = MLP(args.dim, args.dim, args.dropout)\n",
    "\n",
    "    def forward(self, x):\n",
    "        # Layer Norm\n",
    "        norm_x = self.attention_norm(x)\n",
    "        # 自注意力\n",
    "        # 这里的q，k，v是一致的\n",
    "        h = x + self.attention.forward(norm_x, norm_x, norm_x)\n",
    "        # 经过前馈神经网络\n",
    "        out = h + self.feed_forward.forward(self.fnn_norm(h))\n",
    "        return out\n"
   ]
  },
  {
   "cell_type": "code",
   "execution_count": null,
   "id": "f3db0b54",
   "metadata": {},
   "outputs": [],
   "source": [
    "class Encoder(nn.Module):\n",
    "    '''Encoder 块'''\n",
    "    def __init__(self, args):\n",
    "        super(Encoder, self).__init__() \n",
    "        # 一个 Encoder 由 N 个 Encoder Layer 组成\n",
    "        self.layers = nn.ModuleList([EncoderLayer(args) for _ in range(args.n_layer)])\n",
    "        self.norm = LayerNorm(args.n_embd)\n",
    "\n",
    "    def forward(self, x):\n",
    "        \"分别通过 N 层 Encoder Layer\"\n",
    "        for layer in self.layers:\n",
    "            x = layer(x)\n",
    "        return self.norm(x)"
   ]
  },
  {
   "cell_type": "markdown",
   "id": "70c58354",
   "metadata": {},
   "source": [
    "## Decoder"
   ]
  },
  {
   "cell_type": "markdown",
   "id": "250f6c90",
   "metadata": {},
   "source": [
    "类似的，我们也可以先搭建 Decoder Layer，再将 N 个 Decoder Layer 组装为 Decoder。但是和 Encoder \n",
    "不同的是，Decoder 由两个注意力层和一个前馈神经网络组成。第一个注意力层是一个掩码自注意力层，即使用 Mask \n",
    "的注意力计算，保证每一个 token 只能使用该 token 之前的注意力分数；第二个注意力层是一个多头注意力层，\n",
    "该层将使用第一个注意力层的输出作为 query，使用 Encoder 的输出作为 key 和 value，来计算注意力分数。\n",
    "最后，再经过前馈神经网络："
   ]
  },
  {
   "cell_type": "code",
   "execution_count": null,
   "id": "ef2bf3e7",
   "metadata": {},
   "outputs": [],
   "source": [
    "class DecoderLayer(nn.Module):\n",
    "  '''解码层'''\n",
    "    def __init__(self, args):\n",
    "        super().__init__()\n",
    "        # 一个 Layer 中有三个 LayerNorm，分别在 Mask Attention 之前、Self Attention 之前和 MLP 之前\n",
    "        self.attention_norm_1 = LayerNorm(args.n_embd)\n",
    "        # Decoder 的第一个部分是 Mask Attention，传入 is_causal=True\n",
    "        self.mask_attention = MultiHeadAttention(args, is_causal=True)\n",
    "        self.attention_norm_2 = LayerNorm(args.n_embd)\n",
    "        # Decoder 的第二个部分是 类似于 Encoder 的 Attention，传入 is_causal=False\n",
    "        self.attention = MultiHeadAttention(args, is_causal=False)\n",
    "        self.ffn_norm = LayerNorm(args.n_embd)\n",
    "        # 第三个部分是 MLP\n",
    "        self.feed_forward = MLP(args.dim, args.dim, args.dropout)\n",
    "\n",
    "    def forward(self, x, enc_out):\n",
    "        # Layer Norm\n",
    "        norm_x = self.attention_norm_1(x)\n",
    "        # 掩码自注意力\n",
    "        x = x + self.mask_attention.forward(norm_x, norm_x, norm_x)\n",
    "        # 多头注意力\n",
    "        norm_x = self.attention_norm_2(x)\n",
    "        # 该层将使用第一个注意力层的输出作为 query，使用 Encoder 的输出作为 key 和 value\n",
    "        h = x + self.attention.forward(norm_x, enc_out, enc_out)\n",
    "        # 经过前馈神经网络\n",
    "        out = h + self.feed_forward.forward(self.ffn_norm(h))\n",
    "        return out"
   ]
  },
  {
   "cell_type": "code",
   "execution_count": null,
   "id": "2d2d8404",
   "metadata": {},
   "outputs": [],
   "source": [
    "class Decoder(nn.Module):\n",
    "    '''解码器'''\n",
    "    def __init__(self, args):\n",
    "        super(Decoder, self).__init__() \n",
    "        # 一个 Decoder 由 N 个 Decoder Layer 组成，实例化后储存到一个容器中\n",
    "        self.layers = nn.ModuleList([DecoderLayer(args) for _ in range(args.n_layer)])\n",
    "        self.norm = LayerNorm(args.n_embd)\n",
    "\n",
    "    def forward(self, x, enc_out):\n",
    "        \"Pass the input (and mask) through each layer in turn.\"\n",
    "        for layer in self.layers:\n",
    "            # DecoderLayer 要有enc_out才能forward\n",
    "            x = layer(x, enc_out)\n",
    "        return self.norm(x)"
   ]
  },
  {
   "cell_type": "markdown",
   "id": "badbf85a",
   "metadata": {},
   "source": [
    "# 搭建一个transformer\n",
    "\n",
    "## Emberdding layer"
   ]
  },
  {
   "cell_type": "code",
   "execution_count": null,
   "id": "15904da2",
   "metadata": {},
   "outputs": [],
   "source": [
    "self.tok_embeddings = nn.Embedding(args.vocab_size, args.dim)"
   ]
  },
  {
   "cell_type": "markdown",
   "id": "3512ea14",
   "metadata": {},
   "source": [
    "## 位置编码"
   ]
  },
  {
   "cell_type": "code",
   "execution_count": null,
   "id": "c0963748",
   "metadata": {},
   "outputs": [],
   "source": [
    "公式："
   ]
  },
  {
   "cell_type": "code",
   "execution_count": 22,
   "id": "77bd7a4b",
   "metadata": {},
   "outputs": [
    {
     "name": "stdout",
     "output_type": "stream",
     "text": [
      "[[ 0.          1.          0.          1.        ]\n",
      " [ 0.84147098  0.54030231  0.09983342  0.99500417]\n",
      " [ 0.90929743 -0.41614684  0.19866933  0.98006658]\n",
      " [ 0.14112001 -0.9899925   0.29552021  0.95533649]]\n"
     ]
    }
   ],
   "source": [
    "import numpy as np\n",
    "import matplotlib.pyplot as plt\n",
    "def PositionEncoding(seq_len, d_model, n=10000):\n",
    "    P = np.zeros((seq_len, d_model))\n",
    "    for k in range(seq_len):\n",
    "        for i in np.arange(int(d_model/2)):\n",
    "            denominator = np.power(n, 2*i/d_model)\n",
    "            P[k, 2*i] = np.sin(k/denominator)\n",
    "            P[k, 2*i+1] = np.cos(k/denominator)\n",
    "    return P\n",
    "\n",
    "P = PositionEncoding(seq_len=4, d_model=4, n=100)\n",
    "print(P)"
   ]
  },
  {
   "cell_type": "code",
   "execution_count": 78,
   "id": "8edf4efc",
   "metadata": {},
   "outputs": [],
   "source": [
    "\n",
    "class PositionalEncoding(nn.Module):\n",
    "    '''位置编码模块'''\n",
    "\n",
    "    def __init__(self, args):\n",
    "        super(PositionalEncoding, self).__init__()\n",
    "        # Dropout 层\n",
    "        # self.dropout = nn.Dropout(p=args.dropout)\n",
    "        # block size 是序列的最大长度\n",
    "        pe = torch.zeros(args.block_size, args.n_embd)\n",
    "        print(\"pe'size is {}\".format(pe.size()))\n",
    "        # 不进行unsqueeze的话就是一维向量，加入一，变成二维张量\n",
    "        position = torch.arange(0, args.block_size).unsqueeze(1)\n",
    "        print(\"position'size is {}\".format(position.size()))\n",
    "\n",
    "        # 计算 theta\n",
    "        div_term = torch.exp(\n",
    "            # 步长为2\n",
    "            torch.arange(0, args.n_embd, 2) * -(math.log(10000.0) / args.n_embd)\n",
    "        )\n",
    "        # 分别计算 sin、cos 结果\n",
    "        # pe阵的所有行，列从0开始每隔2个取一个，即奇数位置\n",
    "        pe[:, 0::2] = torch.sin(position * div_term)\n",
    "        pe[:, 1::2] = torch.cos(position * div_term)\n",
    "        pe = pe.unsqueeze(0)\n",
    "        print(\"pe'size is {}\".format(pe.size()))\n",
    "        self.register_buffer(\"pe\", pe)\n",
    "\n",
    "    def forward(self, x):\n",
    "        # 将位置编码加到 Embedding 结果上\n",
    "        # x.size(1)是当前输入序列长度（即实际的 token 数）。\n",
    "        # :x.size(1) 表示只取前 x.size(1) 个位置的编码\n",
    "        # 这个方法表示 不要为该张量计算梯度。\n",
    "        # 因为位置编码是固定的不需要训练\n",
    "        print(\"x'size is {}\".format(x.size()))\n",
    "        print(x.size(1))\n",
    "        print(\"pe'related size is {}\".format(self.pe[:, : x.size(1)].size()))\n",
    "        x = x + self.pe[:, : x.size(1)].requires_grad_(False)\n",
    "        print(\"x'size is {}\".format(x.size()))\n",
    "        return x"
   ]
  },
  {
   "cell_type": "code",
   "execution_count": 79,
   "id": "55618c31",
   "metadata": {},
   "outputs": [
    {
     "name": "stdout",
     "output_type": "stream",
     "text": [
      "pe'size is torch.Size([8, 16])\n",
      "position'size is torch.Size([8, 1])\n",
      "pe'size is torch.Size([1, 8, 16])\n",
      "x'size is torch.Size([2, 6, 16])\n",
      "6\n",
      "pe'related size is torch.Size([1, 6, 16])\n",
      "x'size is torch.Size([2, 6, 16])\n",
      "输入形状: torch.Size([2, 6, 16])\n",
      "输出形状: torch.Size([2, 6, 16])\n",
      "一部分输出示例:\n",
      " tensor([ 0.6466,  1.4896, -1.4851,  0.3752,  0.1799,  0.1657, -0.8184,  1.3396])\n"
     ]
    }
   ],
   "source": [
    "import torch\n",
    "import math\n",
    "\n",
    "# 假设和模型配置类似\n",
    "class ModuleArgs:\n",
    "    block_size = 8     # 最大序列长度（T）\n",
    "    n_embd = 16        # embedding维度\n",
    "    dropout = 0.1\n",
    "\n",
    "args = ModuleArgs()\n",
    "\n",
    "# 初始化位置编码模块\n",
    "pe = PositionalEncoding(args)\n",
    "\n",
    "# 输入一个随机向量，形状为 (batch_size, seq_len, n_embd)\n",
    "x = torch.randn(2, 6, 16)  # 例如 2 个样本，每个序列长度为 8，每个 token 表示维度为 16\n",
    "\n",
    "output = pe(x)\n",
    "\n",
    "print(\"输入形状:\", x.shape)\n",
    "print(\"输出形状:\", output.shape)\n",
    "print(\"一部分输出示例:\\n\", output[0, 0, :8])  # 查看第一个样本第一个token的前8个维度\n"
   ]
  },
  {
   "cell_type": "markdown",
   "id": "d5725c1a",
   "metadata": {},
   "source": [
    "# Transformer structure\n",
    "\n",
    "经过 tokenizer 映射后的输出先经过 Embedding 层和 Positional Embedding 层编码，然后进入上一节讲过的 N 个 Encoder 和 N 个 Decoder（在 Transformer 原模型中，N 取为6），最后经过一个线性层和一个 Softmax 层就得到了最终输出。"
   ]
  },
  {
   "cell_type": "code",
   "execution_count": null,
   "id": "d0563e85",
   "metadata": {},
   "outputs": [],
   "source": [
    "class Transformer(nn.Module)：\n",
    "    \n",
    "    '''整体模型'''\n",
    "    def __init__(self, args):\n",
    "        super().__init__()\n",
    "        # 必须输入词表大小和 block size\n",
    "        assert args.vocab_size is not None\n",
    "        assert args.block_size is not None\n",
    "        # 整个模型的参数器\n",
    "        self.args = args\n",
    "        # 包含的module字典，将他们实例化\n",
    "        self.transformer = nn.ModuleDict(dict(\n",
    "            wte = nn.Embedding(args.vocab_size, args.n_embd),\n",
    "            wpe = PositionalEncoding(args),\n",
    "            drop = nn.Dropout(args.dropout),\n",
    "            encoder = Encoder(args),\n",
    "            decoder = Decoder(args),\n",
    "        ))\n",
    "        # 最后的线性层，输入是 n_embd，输出是词表大小\n",
    "        self.lm_head = nn.Linear(args.n_embd, args.vocab_size, bias=False)\n",
    "\n",
    "        # 初始化所有的权重\n",
    "        # apply 它会 递归遍历模型中所有子模块（包括嵌套模块），并对每一个模块都调用一次参数中的函数 fn(module)\n",
    "        self.apply(self._init_weights)\n",
    "\n",
    "        # 查看所有参数的数量\n",
    "        print(\"number of parameters: %.2fM\" % (self.get_num_params()/1e6,))\n",
    "\n",
    "    '''统计所有参数的数量'''\n",
    "    def get_num_params(self, non_embedding=False):\n",
    "        # non_embedding: 是否统计 embedding 的参数\n",
    "        n_params = sum(p.numel() for p in self.parameters())\n",
    "        # 如果不统计 embedding 的参数，就减去\n",
    "        if non_embedding:\n",
    "            n_params -= self.transformer.wte.weight.numel()\n",
    "        return n_params\n",
    "\n",
    "    '''初始化权重'''\n",
    "    def _init_weights(self, module):\n",
    "        # 线性层和 Embedding 层初始化为正则分布\n",
    "        if isinstance(module, nn.Linear):\n",
    "            torch.nn.init.normal_(module.weight, mean=0.0, std=0.02)\n",
    "            if module.bias is not None:\n",
    "                torch.nn.init.zeros_(module.bias)\n",
    "        elif isinstance(module, nn.Embedding):\n",
    "            torch.nn.init.normal_(module.weight, mean=0.0, std=0.02)\n",
    "\n",
    "    '''前向计算函数'''\n",
    "    def forward(self, idx, targets=None):\n",
    "        # 输入为 idx，维度为 (batch size, sequence length, 1)；targets 为目标序列，用于计算 loss\n",
    "        device = idx.device\n",
    "        b, t = idx.size()\n",
    "        assert t <= self.args.block_size, f\"不能计算该序列，该序列长度为 {t}, 最大序列长度只有 {self.args.block_size}\"\n",
    "\n",
    "        # 通过 self.transformer\n",
    "        # 首先将输入 idx 通过 Embedding 层，得到维度为 (batch size, sequence length, n_embd)\n",
    "        print(\"idx\",idx.size())\n",
    "        # 通过 Embedding 层\n",
    "        tok_emb = self.transformer.wte(idx)\n",
    "        print(\"tok_emb\",tok_emb.size())\n",
    "        # 然后通过位置编码\n",
    "        pos_emb = self.transformer.wpe(tok_emb) \n",
    "        # 再进行 Dropout\n",
    "        x = self.transformer.drop(pos_emb)\n",
    "        # 然后通过 Encoder\n",
    "        print(\"x after wpe:\",x.size())\n",
    "        enc_out = self.transformer.encoder(x)\n",
    "        print(\"enc_out:\",enc_out.size())\n",
    "        # 再通过 Decoder\n",
    "        x = self.transformer.decoder(x, enc_out)\n",
    "        print(\"x after decoder:\",x.size())\n",
    "\n",
    "        if targets is not None:\n",
    "            # 训练阶段，如果我们给了 targets，就计算 loss\n",
    "            # 先通过最后的 Linear 层，得到维度为 (batch size, sequence length, vocab size)\n",
    "            logits = self.lm_head(x)\n",
    "            # 再跟 targets 计算交叉熵\n",
    "            # .view(-1, logits.size(-1)) 将其 reshape 为：（batch size * sequence length, vocab size）\n",
    "            # 看成一个flatten操作\n",
    "            # .view(-1) 把它压平成 (batch_size * seq_len) 的一维向量\n",
    "            # F.cross_entropy 交叉熵，即 Log Softmax + 负对数似然\n",
    "            loss = F.cross_entropy(logits.view(-1, logits.size(-1)), targets.view(-1), ignore_index=-1)\n",
    "        else:\n",
    "            # 推理阶段，我们只需要 logits，loss 为 None\n",
    "            # 取 -1 是只取序列中的最后一个作为输出，逐步生成一下一个token\n",
    "            # 每个位置上的概率分布，预测的是下一个位置的token\n",
    "            logits = self.lm_head(x[:, [-1], :]) # note: using list [-1] to preserve the time dim\n",
    "            loss = None\n",
    "\n",
    "        return logits, loss\n"
   ]
  }
 ],
 "metadata": {
  "kernelspec": {
   "display_name": "pytorch",
   "language": "python",
   "name": "python3"
  },
  "language_info": {
   "codemirror_mode": {
    "name": "ipython",
    "version": 3
   },
   "file_extension": ".py",
   "mimetype": "text/x-python",
   "name": "python",
   "nbconvert_exporter": "python",
   "pygments_lexer": "ipython3",
   "version": "3.12.9"
  }
 },
 "nbformat": 4,
 "nbformat_minor": 5
}
